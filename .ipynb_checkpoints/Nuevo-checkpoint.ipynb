{
 "cells": [
  {
   "cell_type": "code",
   "execution_count": 1,
   "metadata": {},
   "outputs": [],
   "source": [
    "from glob import glob #Directorios\n",
    "import pandas as pd\n",
    "import numpy as np\n",
    "import nltk\n",
    "from nltk.tokenize import word_tokenize\n",
    "from nltk.corpus import stopwords\n",
    "from textblob import TextBlob \n",
    "from nltk.stem import PorterStemmer\n",
    "import re\n",
    "from nltk.tokenize import TweetTokenizer"
   ]
  },
  {
   "cell_type": "code",
   "execution_count": 2,
   "metadata": {},
   "outputs": [],
   "source": [
    "jsons = sorted(glob('*.json'))"
   ]
  },
  {
   "cell_type": "code",
   "execution_count": 3,
   "metadata": {},
   "outputs": [],
   "source": [
    "df = pd.concat((pd.read_json(file) for file in jsons),ignore_index=True)"
   ]
  },
  {
   "cell_type": "code",
   "execution_count": 4,
   "metadata": {},
   "outputs": [
    {
     "data": {
      "text/html": [
       "<div>\n",
       "<style scoped>\n",
       "    .dataframe tbody tr th:only-of-type {\n",
       "        vertical-align: middle;\n",
       "    }\n",
       "\n",
       "    .dataframe tbody tr th {\n",
       "        vertical-align: top;\n",
       "    }\n",
       "\n",
       "    .dataframe thead th {\n",
       "        text-align: right;\n",
       "    }\n",
       "</style>\n",
       "<table border=\"1\" class=\"dataframe\">\n",
       "  <thead>\n",
       "    <tr style=\"text-align: right;\">\n",
       "      <th></th>\n",
       "      <th>title</th>\n",
       "      <th>body</th>\n",
       "      <th>date</th>\n",
       "      <th>topics</th>\n",
       "      <th>places</th>\n",
       "      <th>id</th>\n",
       "      <th>organisations</th>\n",
       "    </tr>\n",
       "  </thead>\n",
       "  <tbody>\n",
       "    <tr>\n",
       "      <th>0</th>\n",
       "      <td>BAHIA COCOA REVIEW</td>\n",
       "      <td>Showers continued throughout the week in\\nthe ...</td>\n",
       "      <td>1987-02-26 15:01:01.790000</td>\n",
       "      <td>[cocoa]</td>\n",
       "      <td>[el-salvador, usa, uruguay]</td>\n",
       "      <td>1</td>\n",
       "      <td>NaN</td>\n",
       "    </tr>\n",
       "    <tr>\n",
       "      <th>1</th>\n",
       "      <td>STANDARD OIL &lt;SRD&gt; TO FORM FINANCIAL UNIT</td>\n",
       "      <td>Standard Oil Co and BP North America\\nInc said...</td>\n",
       "      <td>1987-02-26 15:02:20</td>\n",
       "      <td>NaN</td>\n",
       "      <td>[usa]</td>\n",
       "      <td>2</td>\n",
       "      <td>NaN</td>\n",
       "    </tr>\n",
       "    <tr>\n",
       "      <th>2</th>\n",
       "      <td>TEXAS COMMERCE BANCSHARES &lt;TCB&gt; FILES PLAN</td>\n",
       "      <td>Texas Commerce Bancshares Inc's Texas\\nCommerc...</td>\n",
       "      <td>1987-02-26 15:03:27.510000</td>\n",
       "      <td>NaN</td>\n",
       "      <td>[usa]</td>\n",
       "      <td>3</td>\n",
       "      <td>NaN</td>\n",
       "    </tr>\n",
       "    <tr>\n",
       "      <th>3</th>\n",
       "      <td>TALKING POINT/BANKAMERICA &lt;BAC&gt; EQUITY OFFER</td>\n",
       "      <td>BankAmerica Corp is not under\\npressure to act...</td>\n",
       "      <td>1987-02-26 15:07:13.720000</td>\n",
       "      <td>NaN</td>\n",
       "      <td>[usa, brazil]</td>\n",
       "      <td>4</td>\n",
       "      <td>NaN</td>\n",
       "    </tr>\n",
       "    <tr>\n",
       "      <th>4</th>\n",
       "      <td>NATIONAL AVERAGE PRICES FOR FARMER-OWNED RESERVE</td>\n",
       "      <td>The U.S. Agriculture Department\\nreported the ...</td>\n",
       "      <td>1987-02-26 15:10:44.600000</td>\n",
       "      <td>[grain, wheat, corn, barley, oat, sorghum]</td>\n",
       "      <td>[usa]</td>\n",
       "      <td>5</td>\n",
       "      <td>NaN</td>\n",
       "    </tr>\n",
       "  </tbody>\n",
       "</table>\n",
       "</div>"
      ],
      "text/plain": [
       "                                              title  \\\n",
       "0                                BAHIA COCOA REVIEW   \n",
       "1         STANDARD OIL <SRD> TO FORM FINANCIAL UNIT   \n",
       "2        TEXAS COMMERCE BANCSHARES <TCB> FILES PLAN   \n",
       "3      TALKING POINT/BANKAMERICA <BAC> EQUITY OFFER   \n",
       "4  NATIONAL AVERAGE PRICES FOR FARMER-OWNED RESERVE   \n",
       "\n",
       "                                                body  \\\n",
       "0  Showers continued throughout the week in\\nthe ...   \n",
       "1  Standard Oil Co and BP North America\\nInc said...   \n",
       "2  Texas Commerce Bancshares Inc's Texas\\nCommerc...   \n",
       "3  BankAmerica Corp is not under\\npressure to act...   \n",
       "4  The U.S. Agriculture Department\\nreported the ...   \n",
       "\n",
       "                         date                                      topics  \\\n",
       "0  1987-02-26 15:01:01.790000                                     [cocoa]   \n",
       "1         1987-02-26 15:02:20                                         NaN   \n",
       "2  1987-02-26 15:03:27.510000                                         NaN   \n",
       "3  1987-02-26 15:07:13.720000                                         NaN   \n",
       "4  1987-02-26 15:10:44.600000  [grain, wheat, corn, barley, oat, sorghum]   \n",
       "\n",
       "                        places  id organisations  \n",
       "0  [el-salvador, usa, uruguay]   1           NaN  \n",
       "1                        [usa]   2           NaN  \n",
       "2                        [usa]   3           NaN  \n",
       "3                [usa, brazil]   4           NaN  \n",
       "4                        [usa]   5           NaN  "
      ]
     },
     "execution_count": 4,
     "metadata": {},
     "output_type": "execute_result"
    }
   ],
   "source": [
    "df.head()"
   ]
  },
  {
   "cell_type": "code",
   "execution_count": 5,
   "metadata": {},
   "outputs": [
    {
     "data": {
      "text/plain": [
       "(21578, 7)"
      ]
     },
     "execution_count": 5,
     "metadata": {},
     "output_type": "execute_result"
    }
   ],
   "source": [
    "df.shape"
   ]
  },
  {
   "cell_type": "code",
   "execution_count": 6,
   "metadata": {},
   "outputs": [
    {
     "data": {
      "text/plain": [
       "title              737\n",
       "body              2535\n",
       "date                 0\n",
       "topics           10211\n",
       "places            2780\n",
       "id                   0\n",
       "organisations    20697\n",
       "dtype: int64"
      ]
     },
     "execution_count": 6,
     "metadata": {},
     "output_type": "execute_result"
    }
   ],
   "source": [
    "df.isnull().sum()"
   ]
  },
  {
   "cell_type": "code",
   "execution_count": 7,
   "metadata": {},
   "outputs": [
    {
     "name": "stdout",
     "output_type": "stream",
     "text": [
      "<class 'pandas.core.frame.DataFrame'>\n",
      "RangeIndex: 21578 entries, 0 to 21577\n",
      "Data columns (total 7 columns):\n",
      " #   Column         Non-Null Count  Dtype \n",
      "---  ------         --------------  ----- \n",
      " 0   title          20841 non-null  object\n",
      " 1   body           19043 non-null  object\n",
      " 2   date           21578 non-null  object\n",
      " 3   topics         11367 non-null  object\n",
      " 4   places         18798 non-null  object\n",
      " 5   id             21578 non-null  int64 \n",
      " 6   organisations  881 non-null    object\n",
      "dtypes: int64(1), object(6)\n",
      "memory usage: 1.2+ MB\n"
     ]
    }
   ],
   "source": [
    "df.info()"
   ]
  },
  {
   "cell_type": "code",
   "execution_count": 8,
   "metadata": {},
   "outputs": [],
   "source": [
    "df['title'] = df['title'].replace(np.nan,'unknown')\n",
    "df['topics'] = df['topics'].replace(np.nan,'unknown')\n",
    "df['places'] = df['places'].replace(np.nan,'unknown')\n",
    "df['organisations'] = df['organisations'].replace(np.nan,'unknown')"
   ]
  },
  {
   "cell_type": "code",
   "execution_count": 9,
   "metadata": {},
   "outputs": [],
   "source": [
    "df = df.dropna()"
   ]
  },
  {
   "cell_type": "code",
   "execution_count": 10,
   "metadata": {},
   "outputs": [
    {
     "data": {
      "text/plain": [
       "title            0\n",
       "body             0\n",
       "date             0\n",
       "topics           0\n",
       "places           0\n",
       "id               0\n",
       "organisations    0\n",
       "dtype: int64"
      ]
     },
     "execution_count": 10,
     "metadata": {},
     "output_type": "execute_result"
    }
   ],
   "source": [
    "df.isnull().sum()"
   ]
  },
  {
   "cell_type": "code",
   "execution_count": 11,
   "metadata": {},
   "outputs": [],
   "source": [
    "df['body'] = df['body'].astype(str)"
   ]
  },
  {
   "cell_type": "code",
   "execution_count": 12,
   "metadata": {},
   "outputs": [],
   "source": [
    "body = df['body']"
   ]
  },
  {
   "cell_type": "code",
   "execution_count": 13,
   "metadata": {},
   "outputs": [
    {
     "data": {
      "text/plain": [
       "0        Showers continued throughout the week in\\nthe ...\n",
       "1        Standard Oil Co and BP North America\\nInc said...\n",
       "2        Texas Commerce Bancshares Inc's Texas\\nCommerc...\n",
       "3        BankAmerica Corp is not under\\npressure to act...\n",
       "4        The U.S. Agriculture Department\\nreported the ...\n",
       "                               ...                        \n",
       "21573    The Japan/India-Pakistan-Gulf/Japan\\nshipping ...\n",
       "21574    The Soviet Union's industrial output is\\ngrowi...\n",
       "21575    Six black miners have been killed\\nand two inj...\n",
       "21576    The prospect of a dominant alliance of\\nsocial...\n",
       "21577    The American Stock Exchange said it has\\nintro...\n",
       "Name: body, Length: 19043, dtype: object"
      ]
     },
     "execution_count": 13,
     "metadata": {},
     "output_type": "execute_result"
    }
   ],
   "source": [
    "body"
   ]
  },
  {
   "cell_type": "code",
   "execution_count": 14,
   "metadata": {},
   "outputs": [
    {
     "data": {
      "text/plain": [
       "'class preprocessing(object):\\n    def __init__(self,punct):\\n        #self.pattern = pattern\\n        self.punct = punct\\n    def cleanString(self,string):\\n        # remove special chars\\n        if self.punct is not None:\\n            string = re.sub(self.punct, \\' \\', string)\\n        string = string.replace(\"\\\\n\", \" \").replace(\"\\n\", \" \")\\n        # Regular expressions\\n        #pattern = re.compile(r\"(.)\\x01{2,}\", re.DOTALL)\\n        #s = pattern.sub(r\"\\x01\", s)\\n        tokenizer = TweetTokenizer()\\n        # Remove stop words\\n        stop_words = set(stopwords.words(\\'english\\'))\\n        cleaned_words = [w for w in tokenizer.tokenize(s) if w not in stop_words]\\n        return \" \".join(cleaned_words)\\n\\n    def stemWords(self,sentence):\\n        stemmer, tokenizer = PorterStemmer(), TweetTokenizer()\\n        stemmed_words = [stemmer.stem(w) for w in tokenizer.tokenize(sentence)]\\n        return \" \".join(stemmed_words)\\n\\n    def cleanFrame(selfdev,frame):\\n        frame[\\'clean_comment\\'] = frame.body.apply(selfdev.cleanString)\\n\\n    def stemFrame(selfdev,frame):\\n        frame[\\'stem_comment\\'] = frame.clean_comment.apply(selfdev.stemWords)'"
      ]
     },
     "execution_count": 14,
     "metadata": {},
     "output_type": "execute_result"
    }
   ],
   "source": [
    "\"\"\"class preprocessing(object):\n",
    "    def __init__(self,punct):\n",
    "        #self.pattern = pattern\n",
    "        self.punct = punct\n",
    "    def cleanString(self,string):\n",
    "        # remove special chars\n",
    "        if self.punct is not None:\n",
    "            string = re.sub(self.punct, ' ', string)\n",
    "        string = string.replace(\"\\\\n\", \" \").replace(\"\\n\", \" \")\n",
    "        # Regular expressions\n",
    "        #pattern = re.compile(r\"(.)\\1{2,}\", re.DOTALL)\n",
    "        #s = pattern.sub(r\"\\1\", s)\n",
    "        tokenizer = TweetTokenizer()\n",
    "        # Remove stop words\n",
    "        stop_words = set(stopwords.words('english'))\n",
    "        cleaned_words = [w for w in tokenizer.tokenize(s) if w not in stop_words]\n",
    "        return \" \".join(cleaned_words)\n",
    "\n",
    "    def stemWords(self,sentence):\n",
    "        stemmer, tokenizer = PorterStemmer(), TweetTokenizer()\n",
    "        stemmed_words = [stemmer.stem(w) for w in tokenizer.tokenize(sentence)]\n",
    "        return \" \".join(stemmed_words)\n",
    "\n",
    "    def cleanFrame(selfdev,frame):\n",
    "        frame['clean_comment'] = frame.body.apply(selfdev.cleanString)\n",
    "\n",
    "    def stemFrame(selfdev,frame):\n",
    "        frame['stem_comment'] = frame.clean_comment.apply(selfdev.stemWords)\"\"\""
   ]
  },
  {
   "cell_type": "code",
   "execution_count": 15,
   "metadata": {},
   "outputs": [],
   "source": [
    "#special_chars = r\"[^a-z0-9!@#\\$%\\^\\&\\*_\\-,\\.' ]\""
   ]
  },
  {
   "cell_type": "code",
   "execution_count": 16,
   "metadata": {},
   "outputs": [
    {
     "data": {
      "text/plain": [
       "'Preprocessing=preprocessing(special_chars)\\nPreprocessing.cleanFrame(df)\\nPreprocessing.stemFrame(df)'"
      ]
     },
     "execution_count": 16,
     "metadata": {},
     "output_type": "execute_result"
    }
   ],
   "source": [
    "\"\"\"Preprocessing=preprocessing(special_chars)\n",
    "Preprocessing.cleanFrame(df)\n",
    "Preprocessing.stemFrame(df)\"\"\""
   ]
  },
  {
   "cell_type": "code",
   "execution_count": 17,
   "metadata": {},
   "outputs": [
    {
     "data": {
      "text/html": [
       "<div>\n",
       "<style scoped>\n",
       "    .dataframe tbody tr th:only-of-type {\n",
       "        vertical-align: middle;\n",
       "    }\n",
       "\n",
       "    .dataframe tbody tr th {\n",
       "        vertical-align: top;\n",
       "    }\n",
       "\n",
       "    .dataframe thead th {\n",
       "        text-align: right;\n",
       "    }\n",
       "</style>\n",
       "<table border=\"1\" class=\"dataframe\">\n",
       "  <thead>\n",
       "    <tr style=\"text-align: right;\">\n",
       "      <th></th>\n",
       "      <th>title</th>\n",
       "      <th>body</th>\n",
       "      <th>date</th>\n",
       "      <th>topics</th>\n",
       "      <th>places</th>\n",
       "      <th>id</th>\n",
       "      <th>organisations</th>\n",
       "    </tr>\n",
       "  </thead>\n",
       "  <tbody>\n",
       "    <tr>\n",
       "      <th>0</th>\n",
       "      <td>BAHIA COCOA REVIEW</td>\n",
       "      <td>Showers continued throughout the week in\\nthe ...</td>\n",
       "      <td>1987-02-26 15:01:01.790000</td>\n",
       "      <td>[cocoa]</td>\n",
       "      <td>[el-salvador, usa, uruguay]</td>\n",
       "      <td>1</td>\n",
       "      <td>unknown</td>\n",
       "    </tr>\n",
       "    <tr>\n",
       "      <th>1</th>\n",
       "      <td>STANDARD OIL &lt;SRD&gt; TO FORM FINANCIAL UNIT</td>\n",
       "      <td>Standard Oil Co and BP North America\\nInc said...</td>\n",
       "      <td>1987-02-26 15:02:20</td>\n",
       "      <td>unknown</td>\n",
       "      <td>[usa]</td>\n",
       "      <td>2</td>\n",
       "      <td>unknown</td>\n",
       "    </tr>\n",
       "    <tr>\n",
       "      <th>2</th>\n",
       "      <td>TEXAS COMMERCE BANCSHARES &lt;TCB&gt; FILES PLAN</td>\n",
       "      <td>Texas Commerce Bancshares Inc's Texas\\nCommerc...</td>\n",
       "      <td>1987-02-26 15:03:27.510000</td>\n",
       "      <td>unknown</td>\n",
       "      <td>[usa]</td>\n",
       "      <td>3</td>\n",
       "      <td>unknown</td>\n",
       "    </tr>\n",
       "    <tr>\n",
       "      <th>3</th>\n",
       "      <td>TALKING POINT/BANKAMERICA &lt;BAC&gt; EQUITY OFFER</td>\n",
       "      <td>BankAmerica Corp is not under\\npressure to act...</td>\n",
       "      <td>1987-02-26 15:07:13.720000</td>\n",
       "      <td>unknown</td>\n",
       "      <td>[usa, brazil]</td>\n",
       "      <td>4</td>\n",
       "      <td>unknown</td>\n",
       "    </tr>\n",
       "    <tr>\n",
       "      <th>4</th>\n",
       "      <td>NATIONAL AVERAGE PRICES FOR FARMER-OWNED RESERVE</td>\n",
       "      <td>The U.S. Agriculture Department\\nreported the ...</td>\n",
       "      <td>1987-02-26 15:10:44.600000</td>\n",
       "      <td>[grain, wheat, corn, barley, oat, sorghum]</td>\n",
       "      <td>[usa]</td>\n",
       "      <td>5</td>\n",
       "      <td>unknown</td>\n",
       "    </tr>\n",
       "  </tbody>\n",
       "</table>\n",
       "</div>"
      ],
      "text/plain": [
       "                                              title  \\\n",
       "0                                BAHIA COCOA REVIEW   \n",
       "1         STANDARD OIL <SRD> TO FORM FINANCIAL UNIT   \n",
       "2        TEXAS COMMERCE BANCSHARES <TCB> FILES PLAN   \n",
       "3      TALKING POINT/BANKAMERICA <BAC> EQUITY OFFER   \n",
       "4  NATIONAL AVERAGE PRICES FOR FARMER-OWNED RESERVE   \n",
       "\n",
       "                                                body  \\\n",
       "0  Showers continued throughout the week in\\nthe ...   \n",
       "1  Standard Oil Co and BP North America\\nInc said...   \n",
       "2  Texas Commerce Bancshares Inc's Texas\\nCommerc...   \n",
       "3  BankAmerica Corp is not under\\npressure to act...   \n",
       "4  The U.S. Agriculture Department\\nreported the ...   \n",
       "\n",
       "                         date                                      topics  \\\n",
       "0  1987-02-26 15:01:01.790000                                     [cocoa]   \n",
       "1         1987-02-26 15:02:20                                     unknown   \n",
       "2  1987-02-26 15:03:27.510000                                     unknown   \n",
       "3  1987-02-26 15:07:13.720000                                     unknown   \n",
       "4  1987-02-26 15:10:44.600000  [grain, wheat, corn, barley, oat, sorghum]   \n",
       "\n",
       "                        places  id organisations  \n",
       "0  [el-salvador, usa, uruguay]   1       unknown  \n",
       "1                        [usa]   2       unknown  \n",
       "2                        [usa]   3       unknown  \n",
       "3                [usa, brazil]   4       unknown  \n",
       "4                        [usa]   5       unknown  "
      ]
     },
     "execution_count": 17,
     "metadata": {},
     "output_type": "execute_result"
    }
   ],
   "source": [
    "df.head()"
   ]
  },
  {
   "cell_type": "code",
   "execution_count": 19,
   "metadata": {},
   "outputs": [
    {
     "data": {
      "text/plain": [
       "'Standard Oil Co and BP North America\\nInc said they plan to form a venture to manage the money market\\nborrowing and investment activities of both companies.\\n    BP North America is a subsidiary of British Petroleum Co\\nPlc <BP>, which also owns a 55 pct interest in Standard Oil.\\n    The venture will be called BP/Standard Financial Trading\\nand will be operated by Standard Oil under the oversight of a\\njoint management committee.\\n\\n Reuter\\n\\x03'"
      ]
     },
     "execution_count": 19,
     "metadata": {},
     "output_type": "execute_result"
    }
   ],
   "source": [
    "body[1]"
   ]
  },
  {
   "cell_type": "code",
   "execution_count": null,
   "metadata": {},
   "outputs": [],
   "source": []
  }
 ],
 "metadata": {
  "kernelspec": {
   "display_name": "Python 3",
   "language": "python",
   "name": "python3"
  },
  "language_info": {
   "codemirror_mode": {
    "name": "ipython",
    "version": 3
   },
   "file_extension": ".py",
   "mimetype": "text/x-python",
   "name": "python",
   "nbconvert_exporter": "python",
   "pygments_lexer": "ipython3",
   "version": "3.7.6"
  }
 },
 "nbformat": 4,
 "nbformat_minor": 4
}
